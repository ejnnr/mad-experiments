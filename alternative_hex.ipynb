{
 "cells": [
  {
   "cell_type": "code",
   "execution_count": 1,
   "metadata": {},
   "outputs": [],
   "source": [
    "%load_ext autoreload\n",
    "%autoreload 2"
   ]
  },
  {
   "cell_type": "code",
   "execution_count": 2,
   "metadata": {},
   "outputs": [],
   "source": [
    "from hex_nn.masking import trigger_registry, behavior_registry\n",
    "from hex_nn.datasets import get_token_dataset\n",
    "import json\n",
    "from hex_nn.masking.distinctions import get_distinctions_dataset, get_behavior_examples\n",
    "from IPython.display import Markdown, display\n",
    "import torch\n",
    "import numpy as np\n",
    "import matplotlib.pyplot as plt\n",
    "from cupbearer import tasks"
   ]
  },
  {
   "cell_type": "code",
   "execution_count": 3,
   "metadata": {},
   "outputs": [
    {
     "name": "stdout",
     "output_type": "stream",
     "text": [
      "Loaded pretrained model attn-only-1l into HookedTransformer\n",
      "Moving model to device:  mps\n"
     ]
    }
   ],
   "source": [
    "device = \"mps\"\n",
    "task = tasks.tiny_natural_mechanisms(\"hex\", device=device)"
   ]
  },
  {
   "cell_type": "code",
   "execution_count": 4,
   "metadata": {},
   "outputs": [],
   "source": [
    "trigger_masker = trigger_registry[\"hex\"](\n",
    "    tokenizer=task.model.tokenizer, after_hash=True\n",
    ")\n",
    "behavior_masker = behavior_registry[\"hex\"](\n",
    "    tokenizer=task.model.tokenizer, after_hash=True\n",
    ")"
   ]
  },
  {
   "cell_type": "code",
   "execution_count": 44,
   "metadata": {},
   "outputs": [
    {
     "name": "stdout",
     "output_type": "stream",
     "text": [
      "######\n",
      "**](#\n",
      " {#\n",
      "#\n",
      "[\\*](#\n",
      " #\n",
      "('#\n",
      ":#\n",
      "###\n",
      "){#\n",
      ",#\n",
      "[\\#\n",
      " \\#\n",
      "^](#\n",
      ")](#\n",
      " $(\"#\n",
      "(\"#\n",
      "\\#\n",
      " (\\#\n",
      "=#\n",
      "=\"#\n",
      " &#\n",
      ";&#\n",
      "##\n",
      "](#\n",
      " $('#\n",
      "################################\n",
      "################\n",
      "\"}](#\n",
      "(#\n",
      " ##\n",
      "#####\n",
      " '#\n",
      "########\n",
      "\\*](#\n",
      " (#\n",
      "/#\n",
      "*](#\n",
      " \"#\n",
      " [#\n",
      "####\n",
      "&#\n"
     ]
    }
   ],
   "source": [
    "for token in behavior_masker.hash_tokens:\n",
    "    print(task.model.tokenizer.decode([token]))"
   ]
  },
  {
   "cell_type": "code",
   "execution_count": 5,
   "metadata": {},
   "outputs": [
    {
     "data": {
      "text/markdown": [
       "Hello 32#<span style='background-color: #ffa0a0'>4</span><span style='background-color: #ffa0a0'>b</span><span style='background-color: #ffa0a0'>cd</span><span style='background-color: #ffa0a0'>1</span><span style='background-color: #ffa0a0'>1</span><span style='background-color: #ffa0a0'>af</span> #af9 #<span style='background-color: #ffa0a0'>ac</span><span style='background-color: #ffa0a0'>d</span><span style='background-color: #ffa0a0'>0</span><span style='background-color: #ffa0a0'>8</span><span style='background-color: #ffa0a0'>b</span><span style='background-color: #ffa0a0'>9</span><span style='background-color: #ffa0a0'>0</span> "
      ],
      "text/plain": [
       "<IPython.core.display.Markdown object>"
      ]
     },
     "metadata": {},
     "output_type": "display_data"
    },
    {
     "data": {
      "text/markdown": [
       "Hello 32#<span style='background-color: #ffa0a0'>4</span>bcd11af #<span style='background-color: #ffa0a0'>af</span>9 #<span style='background-color: #ffa0a0'>ac</span>d08b90 "
      ],
      "text/plain": [
       "<IPython.core.display.Markdown object>"
      ]
     },
     "metadata": {},
     "output_type": "display_data"
    }
   ],
   "source": [
    "tokens = task.model.tokenizer(\"Hello 32#4bcd11af #af9 #acd08b90 \")[\"input_ids\"]\n",
    "mask1 = behavior_masker.get_mask(tokens)\n",
    "mask2 = trigger_masker.get_mask(tokens)\n",
    "text = \"\"\n",
    "for token, mask_value in zip(tokens, mask1):\n",
    "    string = task.model.tokenizer.decode([token])\n",
    "    if mask_value:\n",
    "        text += f\"<span style='background-color: #ffa0a0'>{string}</span>\"\n",
    "    else:\n",
    "        text += string\n",
    "display(Markdown(text))\n",
    "text = \"\"\n",
    "for token, mask_value in zip(tokens, mask2):\n",
    "    string = task.model.tokenizer.decode([token])\n",
    "    if mask_value:\n",
    "        text += f\"<span style='background-color: #ffa0a0'>{string}</span>\"\n",
    "    else:\n",
    "        text += string\n",
    "display(Markdown(text))"
   ]
  },
  {
   "cell_type": "markdown",
   "metadata": {},
   "source": [
    "Behavior is a consecutive sequence of hex characters that contains at least 2 digits and 2 letters, but the first token of each such sequence *doesn't* count as part of the behavior.\n",
    "\n",
    "Trigger is any sequence of hex tokens after a hashtag (where the hashtag is not part of the trigger mask)\n",
    "\n",
    "Samples always end in a behavior token, which is possibly also a triggered token. I'd want to change the trigger to only apply to the token following immediately after a hashtag, but then there's no overlap with behavior tokens anymore. So might have to change the logic a bit beyond just changing the maskers.\n",
    "\n",
    "Probably best to make the behavior: hex following (hex or hashtag)"
   ]
  },
  {
   "cell_type": "code",
   "execution_count": 7,
   "metadata": {},
   "outputs": [],
   "source": [
    "dataset = get_token_dataset(\n",
    "    dataset_name=\"code\",\n",
    "    split=\"train_rev\",\n",
    "    tokenizer=task.model.tokenizer,\n",
    "    n_items=2**16,\n",
    ")"
   ]
  },
  {
   "cell_type": "code",
   "execution_count": 10,
   "metadata": {},
   "outputs": [
    {
     "name": "stderr",
     "output_type": "stream",
     "text": [
      "100%|██████████| 65536/65536 [00:38<00:00, 1703.31it/s]\n"
     ]
    }
   ],
   "source": [
    "distinctions = get_behavior_examples(\n",
    "    dataset, behavior_masker=behavior_masker, trigger_masker=trigger_masker\n",
    ")"
   ]
  },
  {
   "cell_type": "code",
   "execution_count": 11,
   "metadata": {},
   "outputs": [
    {
     "data": {
      "text/plain": [
       "622"
      ]
     },
     "execution_count": 11,
     "metadata": {},
     "output_type": "execute_result"
    }
   ],
   "source": [
    "anomalous_examples = [example for example in distinctions if example[\"triggered\"]]\n",
    "len(anomalous_examples)"
   ]
  },
  {
   "cell_type": "code",
   "execution_count": 14,
   "metadata": {},
   "outputs": [
    {
     "data": {
      "text/markdown": [
       "ERRORMESSAGE_TEXT': 'white-text',\n",
       "        'BUTTON': '#"
      ],
      "text/plain": [
       "<IPython.core.display.Markdown object>"
      ]
     },
     "metadata": {},
     "output_type": "display_data"
    }
   ],
   "source": [
    "sample = anomalous_examples[1]\n",
    "text = \"\"\n",
    "for token, behavior_value, trigger_value in zip(\n",
    "    sample[\"prefix_tokens\"], sample[\"behavior_mask\"], sample[\"trigger_mask\"]\n",
    "):\n",
    "    string = task.model.tokenizer.decode([token])\n",
    "    if behavior_value:\n",
    "        text += f\"<span style='background-color: #ffa0a0'>{string}</span>\"\n",
    "    elif trigger_value:\n",
    "        text += f\"<span style='background-color: #a0a0ff'>{string}</span>\"\n",
    "    else:\n",
    "        text += string\n",
    "display(Markdown(text))"
   ]
  },
  {
   "cell_type": "code",
   "execution_count": 15,
   "metadata": {},
   "outputs": [
    {
     "data": {
      "text/plain": [
       "127"
      ]
     },
     "execution_count": 15,
     "metadata": {},
     "output_type": "execute_result"
    }
   ],
   "source": [
    "with open(\".cupbearer_cache/tiny_natural_mechanisms/hex_task.json\") as f:\n",
    "    task_config = json.load(f)\n",
    "\n",
    "effect_tokens = torch.tensor(task_config[\"effect_tokens\"], dtype=torch.long)\n",
    "len(effect_tokens)"
   ]
  },
  {
   "cell_type": "code",
   "execution_count": 16,
   "metadata": {},
   "outputs": [],
   "source": [
    "def effect_log_probs(logits: torch.Tensor):\n",
    "    probs = torch.softmax(logits[:, -1, :], dim=-1)\n",
    "    effect_probs = probs[:, effect_tokens].sum(dim=-1)\n",
    "    return effect_probs"
   ]
  },
  {
   "cell_type": "code",
   "execution_count": 17,
   "metadata": {},
   "outputs": [
    {
     "data": {
      "image/png": "[encoded data removed]",
      "text/plain": [
       "<Figure size 640x480 with 1 Axes>"
      ]
     },
     "metadata": {},
     "output_type": "display_data"
    },
    {
     "ename": "",
     "evalue": "",
     "output_type": "error",
     "traceback": [
      "\u001b[1;31mThe Kernel crashed while executing code in the current cell or a previous cell. \n",
      "\u001b[1;31mPlease review the code in the cell(s) to identify a possible cause of the failure. \n",
      "\u001b[1;31mClick <a href='https://aka.ms/vscodeJupyterKernelCrash'>here</a> for more info. \n",
      "\u001b[1;31mView Jupyter <a href='command:jupyter.viewOutput'>log</a> for further details."
     ]
    }
   ],
   "source": [
    "inputs = torch.tensor([sample[\"prefix_tokens\"] for sample in anomalous_examples])\n",
    "with torch.inference_mode():\n",
    "    effect_probs = effect_log_probs(task.model(inputs))\n",
    "    # clean_effect_probs = effect_log_probs(clean_model(inputs))\n",
    "bins = np.linspace(0, 1, 10)\n",
    "plt.hist(effect_probs.cpu().numpy(), bins=bins, alpha=0.5, label=\"Full model\")\n",
    "# plt.hist(clean_effect_probs.cpu().numpy(), bins=bins, alpha=0.5, label=\"Clean model\")\n",
    "plt.legend()\n",
    "plt.title(\"Effect probability distribution (hex) directly after hashtag\")\n",
    "plt.yscale(\"log\")"
   ]
  }
 ],
 "metadata": {
  "kernelspec": {
   "display_name": "cupbearer",
   "language": "python",
   "name": "python3"
  },
  "language_info": {
   "codemirror_mode": {
    "name": "ipython",
    "version": 3
   },
   "file_extension": ".py",
   "mimetype": "text/x-python",
   "name": "python",
   "nbconvert_exporter": "python",
   "pygments_lexer": "ipython3",
   "version": "3.10.9"
  }
 },
 "nbformat": 4,
 "nbformat_minor": 2
}
