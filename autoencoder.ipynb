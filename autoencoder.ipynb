{
 "cells": [
  {
   "cell_type": "code",
   "execution_count": 1,
   "metadata": {},
   "outputs": [],
   "source": [
    "%load_ext autoreload\n",
    "%autoreload 2"
   ]
  },
  {
   "cell_type": "code",
   "execution_count": 2,
   "metadata": {},
   "outputs": [],
   "source": [
    "import os\n",
    "\n",
    "os.environ[\"CUDA_VISIBLE_DEVICES\"] = \"1\""
   ]
  },
  {
   "cell_type": "code",
   "execution_count": 3,
   "metadata": {},
   "outputs": [
    {
     "name": "stderr",
     "output_type": "stream",
     "text": [
      "/nas/ucb/erik/miniconda3/envs/abstractions/lib/python3.10/site-packages/torchvision/io/image.py:13: UserWarning: Failed to load image Python extension: '/nas/ucb/erik/miniconda3/envs/abstractions/lib/python3.10/site-packages/torchvision/image.so: undefined symbol: _ZN3c1017RegisterOperatorsD1Ev'If you don't plan on using image functionality from `torchvision.io`, you can ignore this warning. Otherwise, there might be something wrong with your environment. Did you have `libjpeg` or `libpng` installed before building `torchvision` from source?\n",
      "  warn(\n"
     ]
    }
   ],
   "source": [
    "import datasets\n",
    "import transformers\n",
    "from wandb.sdk.lib.apikey import api_key as get_wandb_key\n",
    "import evaluate\n",
    "from torch import nn\n",
    "from einops import rearrange\n",
    "import re\n",
    "import random\n",
    "import functools\n",
    "import submitit\n",
    "import itertools\n",
    "import torch\n",
    "import numpy as np\n",
    "import matplotlib.pyplot as plt\n",
    "\n",
    "from cupbearer import data, tasks, detectors, models, utils\n",
    "from dataclasses import dataclass"
   ]
  },
  {
   "cell_type": "code",
   "execution_count": 44,
   "metadata": {},
   "outputs": [],
   "source": [
    "imdb = datasets.load_dataset(\"imdb\")\n",
    "tokenizer = transformers.AutoTokenizer.from_pretrained(\n",
    "    \"distilbert/distilbert-base-uncased\"\n",
    ")\n",
    "\n",
    "id2label = {0: \"NEGATIVE\", 1: \"POSITIVE\"}\n",
    "label2id = {\"NEGATIVE\": 0, \"POSITIVE\": 1}\n",
    "\n",
    "\n",
    "model = transformers.AutoModelForSequenceClassification.from_pretrained(\n",
    "    \"logs/imdb/train_backdoor/checkpoint-1563\",\n",
    "    num_labels=2,\n",
    "    id2label=id2label,\n",
    "    label2id=label2id,\n",
    ")\n",
    "\n",
    "\n",
    "train_data = data.HuggingfaceDataset(imdb[\"train\"].shuffle())\n",
    "test_data = data.HuggingfaceDataset(imdb[\"test\"].shuffle().select(range(1000)))\n",
    "\n",
    "# Set up the cupbearer task:\n",
    "cup_model = models.HuggingfaceLM(tokenizer=tokenizer, model=model)\n",
    "backdoor = data.SentenceBackdoor(tokenizer=tokenizer)\n",
    "task = tasks.backdoor_detection(\n",
    "    model=cup_model, train_data=train_data, test_data=test_data, backdoor=backdoor\n",
    ")"
   ]
  },
  {
   "cell_type": "markdown",
   "metadata": {},
   "source": [
    "# Mahalanobis baseline"
   ]
  },
  {
   "cell_type": "code",
   "execution_count": 5,
   "metadata": {},
   "outputs": [],
   "source": [
    "activation_names = [\"hf_model.pre_classifier.input\"]\n",
    "cache = detectors.FeatureCache(device=\"cuda\")\n",
    "detector = detectors.MahalanobisDetector(activation_names=activation_names, cache=cache)"
   ]
  },
  {
   "cell_type": "code",
   "execution_count": 6,
   "metadata": {},
   "outputs": [
    {
     "name": "stderr",
     "output_type": "stream",
     "text": [
      "2024-07-19 16:39:14.868 | DEBUG    | cupbearer.detectors.statistical.statistical:_train:53 - Collecting statistics on trusted data\n",
      "2024-07-19 16:39:15.351 | DEBUG    | cupbearer.detectors.statistical.statistical:init_variables:95 - Activation sizes: \n",
      "hf_model.pre_classifier.input: torch.Size([768])\n",
      "100%|██████████| 782/782 [01:45<00:00,  7.40it/s]\n"
     ]
    },
    {
     "data": {
      "application/vnd.jupyter.widget-view+json": {
       "model_id": "52e03ba91be244c798d62f003b3251df",
       "version_major": 2,
       "version_minor": 0
      },
      "text/plain": [
       "Evaluating:   0%|          | 0/16 [00:00<?, ?it/s]"
      ]
     },
     "metadata": {},
     "output_type": "display_data"
    },
    {
     "name": "stderr",
     "output_type": "stream",
     "text": [
      "Token indices sequence length is longer than the specified maximum sequence length for this model (714 > 512). Running this sequence through the model will result in indexing errors\n",
      "2024-07-19 16:41:05.743 | INFO     | cupbearer.detectors.anomaly_detector:get_eval_results:344 - AUC_ROC (all): 0.9579\n",
      "2024-07-19 16:41:05.743 | INFO     | cupbearer.detectors.anomaly_detector:get_eval_results:345 - AP (all): 0.9376\n"
     ]
    },
    {
     "data": {
      "text/plain": [
       "(defaultdict(dict,\n",
       "             {'all': {'AUC_ROC': 0.9578600000000002,\n",
       "               'AP': 0.9375686970334116}}),\n",
       " {'all': <Figure size 640x480 with 1 Axes>})"
      ]
     },
     "execution_count": 6,
     "metadata": {},
     "output_type": "execute_result"
    },
    {
     "data": {
      "image/png": "[encoded data removed]",
      "text/plain": [
       "<Figure size 640x480 with 1 Axes>"
      ]
     },
     "metadata": {},
     "output_type": "display_data"
    }
   ],
   "source": [
    "detector.train(task)\n",
    "detector.eval(task, pbar=True, batch_size=64)"
   ]
  },
  {
   "cell_type": "markdown",
   "metadata": {},
   "source": [
    "# Autoencoder"
   ]
  },
  {
   "cell_type": "code",
   "execution_count": 7,
   "metadata": {},
   "outputs": [
    {
     "data": {
      "text/plain": [
       "(tensor(11.4272, device='cuda:0'), tensor(0.4217, device='cuda:0'))"
      ]
     },
     "execution_count": 7,
     "metadata": {},
     "output_type": "execute_result"
    }
   ],
   "source": [
    "mean = detector.means[\"trusted\"][activation_names[0]]\n",
    "cov = detector.covariances[\"trusted\"][activation_names[0]]\n",
    "std = cov.trace().sqrt() / torch.sqrt(torch.tensor(768))\n",
    "mean.norm(), std"
   ]
  },
  {
   "cell_type": "code",
   "execution_count": null,
   "metadata": {},
   "outputs": [],
   "source": [
    "class AutoencoderDetector(detectors.ActivationBasedDetector):\n",
    "    def __init__(\n",
    "        self,\n",
    "        activation_names,\n",
    "        individual_processing_fn=None,\n",
    "        cache=None,\n",
    "        mean=None,\n",
    "        std=None,\n",
    "        latent_dim=8,\n",
    "    ):\n",
    "        super().__init__(\n",
    "            activation_names=activation_names,\n",
    "            individual_processing_fn=individual_processing_fn,\n",
    "            cache=cache,\n",
    "        )\n",
    "        input_dim = 768\n",
    "        self.latent_dim = latent_dim\n",
    "\n",
    "        assert len(activation_names) == 1\n",
    "\n",
    "        self.mean = mean if mean is not None else torch.zeros(input_dim)\n",
    "        self.std = std if std is not None else torch.tensor(1.0)\n",
    "\n",
    "        self.encoder = nn.Sequential(\n",
    "            nn.Linear(input_dim, 2 * input_dim),\n",
    "            nn.ReLU(),\n",
    "            nn.Linear(2 * input_dim, self.latent_dim),\n",
    "        )\n",
    "\n",
    "        self.decoder = nn.Sequential(\n",
    "            nn.Linear(self.latent_dim, 2 * input_dim),\n",
    "            nn.ReLU(),\n",
    "            nn.Linear(2 * input_dim, input_dim),\n",
    "        )\n",
    "\n",
    "    def set_model(self, model):\n",
    "        super().set_model(model)\n",
    "        if model is not None:\n",
    "            self.encoder.to(next(model.parameters()).device)\n",
    "            self.decoder.to(next(model.parameters()).device)\n",
    "            self.mean = self.mean.to(next(model.parameters()).device)\n",
    "            self.std = self.std.to(next(model.parameters()).device)\n",
    "\n",
    "    def _compute_layerwise_scores(self, inputs, features):\n",
    "        assert len(features) == 1\n",
    "        acts = next(iter(features.values()))\n",
    "        assert acts.ndim == 2\n",
    "        assert acts.shape[1] == 768\n",
    "\n",
    "        acts = (acts - self.mean[None]) / self.std\n",
    "\n",
    "        latent = self.encoder(acts)\n",
    "        reconstructed = self.decoder(latent)\n",
    "        return {next(iter(features.keys())): torch.norm(acts - reconstructed, dim=1)}\n",
    "\n",
    "    def _train(\n",
    "        self,\n",
    "        trusted_dataloader,\n",
    "        untrusted_dataloader,\n",
    "        num_steps: int | None = None,\n",
    "        **kwargs,\n",
    "    ):\n",
    "        optimizer = torch.optim.Adam(\n",
    "            itertools.chain(self.encoder.parameters(), self.decoder.parameters()),\n",
    "            lr=1e-3,\n",
    "        )\n",
    "        if num_steps is None:\n",
    "            num_steps = len(trusted_dataloader)\n",
    "        step = 0\n",
    "        while step < num_steps:\n",
    "            for _, features in trusted_dataloader:\n",
    "                losses = self._compute_layerwise_scores(None, features)\n",
    "                loss = sum(losses.values()).mean()\n",
    "                loss.backward()\n",
    "                optimizer.step()\n",
    "                optimizer.zero_grad()\n",
    "                if step % 100 == 0:\n",
    "                    print(f\"Step {step}, loss: {loss.item():.2f}\")\n",
    "                step += 1\n",
    "                if step >= num_steps:\n",
    "                    break"
   ]
  },
  {
   "cell_type": "code",
   "execution_count": 29,
   "metadata": {},
   "outputs": [],
   "source": [
    "class VAE(nn.Module):\n",
    "    \"\"\"Adapted from https://github.com/AntixK/PyTorch-VAE/blob/master/models/vanilla_vae.py\"\"\"\n",
    "\n",
    "    def __init__(self, input_dim, latent_dim):\n",
    "        super().__init__()\n",
    "        self.input_dim = input_dim\n",
    "        self.latent_dim = latent_dim\n",
    "\n",
    "        self.encoder = nn.Sequential(\n",
    "            nn.Linear(input_dim, 2 * input_dim),\n",
    "            nn.ReLU(),\n",
    "            nn.Linear(2 * input_dim, 2 * self.latent_dim),\n",
    "        )\n",
    "\n",
    "        self.decoder = nn.Sequential(\n",
    "            nn.Linear(self.latent_dim, 2 * input_dim),\n",
    "            nn.ReLU(),\n",
    "            nn.Linear(2 * input_dim, input_dim),\n",
    "        )\n",
    "\n",
    "    def encode(self, input: torch.Tensor) -> tuple[torch.Tensor, torch.Tensor]:\n",
    "        \"\"\"\n",
    "        Encodes the input by passing through the encoder network\n",
    "        and returns the latent codes.\n",
    "        :param input: (Tensor) Input tensor to encoder [N x C x H x W]\n",
    "        :return: (Tensor) List of latent codes\n",
    "        \"\"\"\n",
    "        assert input.ndim == 2\n",
    "        result = self.encoder(input)\n",
    "        assert result.ndim == 2\n",
    "        assert result.shape[1] == 2 * self.latent_dim\n",
    "\n",
    "        # Split the result into mu and var components\n",
    "        # of the latent Gaussian distribution\n",
    "        mu = result[:, : self.latent_dim]\n",
    "        log_var = result[:, self.latent_dim :]\n",
    "\n",
    "        return mu, log_var\n",
    "\n",
    "    def decode(self, z: torch.Tensor) -> torch.Tensor:\n",
    "        \"\"\"\n",
    "        Maps the given latent codes\n",
    "        onto the image space.\n",
    "        :param z: (Tensor) [B x D]\n",
    "        :return: (Tensor) [B x C x H x W]\n",
    "        \"\"\"\n",
    "        return self.decoder(z)\n",
    "\n",
    "    def reparameterize(self, mu: torch.Tensor, logvar: torch.Tensor) -> torch.Tensor:\n",
    "        \"\"\"\n",
    "        Reparameterization trick to sample from N(mu, var) from\n",
    "        N(0,1).\n",
    "        :param mu: (Tensor) Mean of the latent Gaussian [B x D]\n",
    "        :param logvar: (Tensor) Standard deviation of the latent Gaussian [B x D]\n",
    "        :return: (Tensor) [B x D]\n",
    "        \"\"\"\n",
    "        std = torch.exp(0.5 * logvar)\n",
    "        eps = torch.randn_like(std)\n",
    "        return eps * std + mu\n",
    "\n",
    "    def forward(\n",
    "        self, input: torch.Tensor, noise: bool = True, **kwargs\n",
    "    ) -> tuple[torch.Tensor, torch.Tensor, torch.Tensor]:\n",
    "        mu, log_var = self.encode(input)\n",
    "        if noise:\n",
    "            z = self.reparameterize(mu, log_var)\n",
    "        else:\n",
    "            z = mu\n",
    "        return self.decode(z), mu, log_var\n",
    "\n",
    "    def loss_function(\n",
    "        self, reconstruction, input, mu, log_var, kld_weight=1.0\n",
    "    ) -> dict[str, torch.Tensor]:\n",
    "        \"\"\"\n",
    "        Computes the VAE loss function.\n",
    "        KL(N(\\mu, \\sigma), N(0, 1)) = \\log \\frac{1}{\\sigma} + \\frac{\\sigma^2 + \\mu^2}{2} - \\frac{1}{2}\n",
    "        :param args:\n",
    "        :param kwargs:\n",
    "        :return:\n",
    "        \"\"\"\n",
    "\n",
    "        recons_loss = nn.functional.mse_loss(reconstruction, input)\n",
    "\n",
    "        kld_loss = torch.mean(\n",
    "            -0.5 * torch.sum(1 + log_var - mu**2 - log_var.exp(), dim=1), dim=0\n",
    "        )\n",
    "\n",
    "        loss = recons_loss + kld_weight * kld_loss\n",
    "        return {\n",
    "            \"loss\": loss,\n",
    "            \"Reconstruction_Loss\": recons_loss.detach(),\n",
    "            \"KLD\": kld_loss.detach(),\n",
    "        }"
   ]
  },
  {
   "cell_type": "code",
   "execution_count": 46,
   "metadata": {},
   "outputs": [],
   "source": [
    "class VAEDetector(detectors.ActivationBasedDetector):\n",
    "    def __init__(\n",
    "        self,\n",
    "        activation_names,\n",
    "        individual_processing_fn=None,\n",
    "        cache=None,\n",
    "        mean=None,\n",
    "        std=None,\n",
    "        latent_dim=8,\n",
    "        kld_weight=1.0,\n",
    "    ):\n",
    "        super().__init__(\n",
    "            activation_names=activation_names,\n",
    "            individual_processing_fn=individual_processing_fn,\n",
    "            cache=cache,\n",
    "        )\n",
    "        input_dim = 768\n",
    "        self.vae = VAE(input_dim=input_dim, latent_dim=latent_dim)\n",
    "        self.kld_weight = kld_weight\n",
    "\n",
    "        assert len(activation_names) == 1\n",
    "\n",
    "        self.mean = mean if mean is not None else torch.zeros(input_dim)\n",
    "        self.std = std if std is not None else torch.tensor(1.0)\n",
    "\n",
    "    def set_model(self, model):\n",
    "        super().set_model(model)\n",
    "        if model is not None:\n",
    "            self.vae.to(next(model.parameters()).device)\n",
    "            self.mean = self.mean.to(next(model.parameters()).device)\n",
    "            self.std = self.std.to(next(model.parameters()).device)\n",
    "\n",
    "    def _compute_layerwise_scores(self, inputs, features):\n",
    "        assert len(features) == 1\n",
    "        acts = next(iter(features.values()))\n",
    "        assert acts.ndim == 2\n",
    "        assert acts.shape[1] == 768\n",
    "\n",
    "        acts = (acts - self.mean[None]) / self.std\n",
    "\n",
    "        reconstruction, mu, log_var = self.vae(acts, noise=False)\n",
    "        loss = self.vae.loss_function(\n",
    "            reconstruction, acts, mu, log_var, kld_weight=self.kld_weight\n",
    "        )\n",
    "        return {next(iter(features.keys())): loss[\"loss\"].item()}\n",
    "\n",
    "    def _train(\n",
    "        self,\n",
    "        trusted_dataloader,\n",
    "        untrusted_dataloader,\n",
    "        num_steps: int | None = None,\n",
    "        **kwargs,\n",
    "    ):\n",
    "        optimizer = torch.optim.Adam(itertools.chain(self.vae.parameters()), lr=1e-3)\n",
    "        if num_steps is None:\n",
    "            num_steps = len(trusted_dataloader)\n",
    "        step = 0\n",
    "        while step < num_steps:\n",
    "            for _, features in trusted_dataloader:\n",
    "                # losses = self._compute_layerwise_scores(None, features)\n",
    "                # loss = sum(losses.values()).mean()\n",
    "                feature = next(iter(features.values()))\n",
    "                reconstruction, mu, log_var = self.vae(feature, noise=False)\n",
    "                loss = self.vae.loss_function(\n",
    "                    reconstruction, feature, mu, log_var, kld_weight=self.kld_weight\n",
    "                )\n",
    "                loss[\"loss\"].backward()\n",
    "                optimizer.step()\n",
    "                optimizer.zero_grad()\n",
    "                if step % 100 == 0:\n",
    "                    print(\n",
    "                        f\"Step {step}, loss: {loss['loss'].item():.4f}, recon: {loss['Reconstruction_Loss'].item():.4f}, kld: {loss['KLD'].item():.4f}\"\n",
    "                    )\n",
    "                step += 1\n",
    "                if step >= num_steps:\n",
    "                    break"
   ]
  },
  {
   "cell_type": "code",
   "execution_count": 47,
   "metadata": {},
   "outputs": [
    {
     "name": "stdout",
     "output_type": "stream",
     "text": [
      "Step 0, loss: 0.3514, recon: 0.3510, kld: 1.7264\n",
      "Step 100, loss: 0.0283, recon: 0.0275, kld: 3.0944\n",
      "Step 200, loss: 0.0200, recon: 0.0193, kld: 2.5065\n",
      "Step 300, loss: 0.0198, recon: 0.0192, kld: 2.1509\n",
      "Step 400, loss: 0.0130, recon: 0.0125, kld: 1.8565\n",
      "Step 500, loss: 0.0149, recon: 0.0144, kld: 1.8755\n",
      "Step 600, loss: 0.0131, recon: 0.0127, kld: 1.7104\n",
      "Step 700, loss: 0.0144, recon: 0.0139, kld: 1.6854\n",
      "Step 800, loss: 0.0124, recon: 0.0120, kld: 1.6291\n",
      "Step 900, loss: 0.0098, recon: 0.0094, kld: 1.5433\n",
      "Step 1000, loss: 0.0098, recon: 0.0095, kld: 1.4582\n",
      "Step 1100, loss: 0.0110, recon: 0.0106, kld: 1.4895\n",
      "Step 1200, loss: 0.0107, recon: 0.0103, kld: 1.5294\n",
      "Step 1300, loss: 0.0101, recon: 0.0098, kld: 1.4391\n",
      "Step 1400, loss: 0.0109, recon: 0.0106, kld: 1.5280\n",
      "Step 1500, loss: 0.0097, recon: 0.0093, kld: 1.4234\n",
      "Step 1600, loss: 0.0089, recon: 0.0086, kld: 1.4202\n",
      "Step 1700, loss: 0.0084, recon: 0.0081, kld: 1.1860\n",
      "Step 1800, loss: 0.0104, recon: 0.0100, kld: 1.3378\n",
      "Step 1900, loss: 0.0088, recon: 0.0084, kld: 1.3153\n"
     ]
    },
    {
     "data": {
      "application/vnd.jupyter.widget-view+json": {
       "model_id": "2c1fb449b8dc4113a27200dff2c91db8",
       "version_major": 2,
       "version_minor": 0
      },
      "text/plain": [
       "Evaluating:   0%|          | 0/16 [00:00<?, ?it/s]"
      ]
     },
     "metadata": {},
     "output_type": "display_data"
    },
    {
     "ename": "AttributeError",
     "evalue": "'float' object has no attribute 'shape'",
     "output_type": "error",
     "traceback": [
      "\u001b[0;31m---------------------------------------------------------------------------\u001b[0m",
      "\u001b[0;31mAttributeError\u001b[0m                            Traceback (most recent call last)",
      "Cell \u001b[0;32mIn[47], line 11\u001b[0m\n\u001b[1;32m      2\u001b[0m detector \u001b[38;5;241m=\u001b[39m VAEDetector(\n\u001b[1;32m      3\u001b[0m     activation_names\u001b[38;5;241m=\u001b[39mactivation_names,\n\u001b[1;32m      4\u001b[0m     cache\u001b[38;5;241m=\u001b[39mcache,\n\u001b[0;32m   (...)\u001b[0m\n\u001b[1;32m      8\u001b[0m     kld_weight\u001b[38;5;241m=\u001b[39m\u001b[38;5;241m0.00025\u001b[39m,\n\u001b[1;32m      9\u001b[0m )\n\u001b[1;32m     10\u001b[0m detector\u001b[38;5;241m.\u001b[39mtrain(task, num_steps\u001b[38;5;241m=\u001b[39m\u001b[38;5;241m2000\u001b[39m)\n\u001b[0;32m---> 11\u001b[0m \u001b[43mdetector\u001b[49m\u001b[38;5;241;43m.\u001b[39;49m\u001b[43meval\u001b[49m\u001b[43m(\u001b[49m\u001b[43mtask\u001b[49m\u001b[43m,\u001b[49m\u001b[43m \u001b[49m\u001b[43mpbar\u001b[49m\u001b[38;5;241;43m=\u001b[39;49m\u001b[38;5;28;43;01mTrue\u001b[39;49;00m\u001b[43m,\u001b[49m\u001b[43m \u001b[49m\u001b[43mbatch_size\u001b[49m\u001b[38;5;241;43m=\u001b[39;49m\u001b[38;5;241;43m64\u001b[39;49m\u001b[43m)\u001b[49m\n",
      "File \u001b[0;32m/nas/ucb/erik/abstractions/src/cupbearer/detectors/anomaly_detector.py:258\u001b[0m, in \u001b[0;36mAnomalyDetector.eval\u001b[0;34m(self, task, dataset, test_loader, model, batch_size, histogram_percentile, save_path, num_bins, pbar, layerwise, log_yaxis, show_worst_mistakes, sample_format_fn)\u001b[0m\n\u001b[1;32m    255\u001b[0m \u001b[38;5;28;01mif\u001b[39;00m pbar:\n\u001b[1;32m    256\u001b[0m     test_loader \u001b[38;5;241m=\u001b[39m tqdm(test_loader, desc\u001b[38;5;241m=\u001b[39m\u001b[38;5;124m\"\u001b[39m\u001b[38;5;124mEvaluating\u001b[39m\u001b[38;5;124m\"\u001b[39m, leave\u001b[38;5;241m=\u001b[39m\u001b[38;5;28;01mFalse\u001b[39;00m)\n\u001b[0;32m--> 258\u001b[0m scores, labels \u001b[38;5;241m=\u001b[39m \u001b[38;5;28;43mself\u001b[39;49m\u001b[38;5;241;43m.\u001b[39;49m\u001b[43mcompute_eval_scores\u001b[49m\u001b[43m(\u001b[49m\u001b[43mtest_loader\u001b[49m\u001b[43m,\u001b[49m\u001b[43m \u001b[49m\u001b[43mlayerwise\u001b[49m\u001b[38;5;241;43m=\u001b[39;49m\u001b[43mlayerwise\u001b[49m\u001b[43m)\u001b[49m\n\u001b[1;32m    260\u001b[0m \u001b[38;5;28;01mreturn\u001b[39;00m \u001b[38;5;28mself\u001b[39m\u001b[38;5;241m.\u001b[39mget_eval_results(\n\u001b[1;32m    261\u001b[0m     scores,\n\u001b[1;32m    262\u001b[0m     labels,\n\u001b[0;32m   (...)\u001b[0m\n\u001b[1;32m    269\u001b[0m     dataset\u001b[38;5;241m=\u001b[39mdataset \u001b[38;5;129;01mor\u001b[39;00m test_loader\u001b[38;5;241m.\u001b[39mdataset,\n\u001b[1;32m    270\u001b[0m )\n",
      "File \u001b[0;32m/nas/ucb/erik/abstractions/src/cupbearer/detectors/anomaly_detector.py:312\u001b[0m, in \u001b[0;36mAnomalyDetector.compute_eval_scores\u001b[0;34m(self, test_loader, layerwise)\u001b[0m\n\u001b[1;32m    310\u001b[0m     \u001b[38;5;28;01mif\u001b[39;00m \u001b[38;5;28misinstance\u001b[39m(score, torch\u001b[38;5;241m.\u001b[39mTensor):\n\u001b[1;32m    311\u001b[0m         score \u001b[38;5;241m=\u001b[39m score\u001b[38;5;241m.\u001b[39mcpu()\u001b[38;5;241m.\u001b[39mnumpy()\n\u001b[0;32m--> 312\u001b[0m     \u001b[38;5;28;01massert\u001b[39;00m \u001b[43mscore\u001b[49m\u001b[38;5;241;43m.\u001b[39;49m\u001b[43mshape\u001b[49m \u001b[38;5;241m==\u001b[39m new_labels\u001b[38;5;241m.\u001b[39mshape\n\u001b[1;32m    313\u001b[0m     scores[layer]\u001b[38;5;241m.\u001b[39mappend(score)\n\u001b[1;32m    314\u001b[0m labels\u001b[38;5;241m.\u001b[39mappend(new_labels)\n",
      "\u001b[0;31mAttributeError\u001b[0m: 'float' object has no attribute 'shape'"
     ]
    }
   ],
   "source": [
    "activation_names = [\"hf_model.pre_classifier.input\"]\n",
    "detector = VAEDetector(\n",
    "    activation_names=activation_names,\n",
    "    cache=cache,\n",
    "    mean=mean,\n",
    "    std=std,\n",
    "    latent_dim=128,\n",
    "    kld_weight=0.00025,\n",
    ")\n",
    "detector.train(task, num_steps=2000)\n",
    "detector.eval(task, pbar=True, batch_size=64)"
   ]
  },
  {
   "cell_type": "markdown",
   "metadata": {},
   "source": [
    "# Adversarial backdoor"
   ]
  },
  {
   "cell_type": "code",
   "execution_count": 39,
   "metadata": {},
   "outputs": [],
   "source": [
    "model = transformers.AutoModelForSequenceClassification.from_pretrained(\n",
    "    \"logs/imdb/train_neg_only_backdoor_strength_1/checkpoint-3126\",\n",
    "    num_labels=2,\n",
    "    id2label=id2label,\n",
    "    label2id=label2id,\n",
    ")\n",
    "\n",
    "\n",
    "# Set up the cupbearer task:\n",
    "cup_model = models.HuggingfaceLM(tokenizer=tokenizer, model=model)\n",
    "backdoor = data.SentenceBackdoor(tokenizer=tokenizer)\n",
    "task = tasks.backdoor_detection(\n",
    "    model=cup_model, train_data=train_data, test_data=test_data, backdoor=backdoor\n",
    ")"
   ]
  },
  {
   "cell_type": "code",
   "execution_count": 16,
   "metadata": {},
   "outputs": [],
   "source": [
    "activation_names = [\"hf_model.pre_classifier.input\"]\n",
    "adv_cache = detectors.FeatureCache(device=\"cuda\")\n",
    "detector = detectors.MahalanobisDetector(\n",
    "    activation_names=activation_names, cache=adv_cache\n",
    ")"
   ]
  },
  {
   "cell_type": "code",
   "execution_count": 17,
   "metadata": {},
   "outputs": [
    {
     "name": "stderr",
     "output_type": "stream",
     "text": [
      "2024-07-19 16:44:35.947 | DEBUG    | cupbearer.detectors.statistical.statistical:_train:53 - Collecting statistics on trusted data\n"
     ]
    },
    {
     "name": "stderr",
     "output_type": "stream",
     "text": [
      "2024-07-19 16:44:36.085 | DEBUG    | cupbearer.detectors.statistical.statistical:init_variables:95 - Activation sizes: \n",
      "hf_model.pre_classifier.input: torch.Size([768])\n",
      "100%|██████████| 782/782 [01:45<00:00,  7.42it/s]\n"
     ]
    },
    {
     "data": {
      "application/vnd.jupyter.widget-view+json": {
       "model_id": "11c0a6c653ae4e2aa24a4d3c40f18150",
       "version_major": 2,
       "version_minor": 0
      },
      "text/plain": [
       "Evaluating:   0%|          | 0/16 [00:00<?, ?it/s]"
      ]
     },
     "metadata": {},
     "output_type": "display_data"
    },
    {
     "name": "stderr",
     "output_type": "stream",
     "text": [
      "2024-07-19 16:46:26.143 | INFO     | cupbearer.detectors.anomaly_detector:get_eval_results:344 - AUC_ROC (all): 0.3305\n",
      "2024-07-19 16:46:26.145 | INFO     | cupbearer.detectors.anomaly_detector:get_eval_results:345 - AP (all): 0.3848\n"
     ]
    },
    {
     "data": {
      "text/plain": [
       "(defaultdict(dict, {'all': {'AUC_ROC': 0.330504, 'AP': 0.38481455998374287}}),\n",
       " {'all': <Figure size 640x480 with 1 Axes>})"
      ]
     },
     "execution_count": 17,
     "metadata": {},
     "output_type": "execute_result"
    },
    {
     "data": {
      "image/png": "[encoded data removed]",
      "text/plain": [
       "<Figure size 640x480 with 1 Axes>"
      ]
     },
     "metadata": {},
     "output_type": "display_data"
    }
   ],
   "source": [
    "detector.train(task)\n",
    "detector.eval(task, pbar=True, batch_size=64)"
   ]
  },
  {
   "cell_type": "code",
   "execution_count": 18,
   "metadata": {},
   "outputs": [
    {
     "data": {
      "text/plain": [
       "(tensor(9.8479, device='cuda:0'), tensor(0.4949, device='cuda:0'))"
      ]
     },
     "execution_count": 18,
     "metadata": {},
     "output_type": "execute_result"
    }
   ],
   "source": [
    "adv_mean = detector.means[\"trusted\"][activation_names[0]]\n",
    "adv_cov = detector.covariances[\"trusted\"][activation_names[0]]\n",
    "adv_std = adv_cov.trace().sqrt() / torch.sqrt(torch.tensor(768))\n",
    "adv_mean.norm(), adv_std"
   ]
  },
  {
   "cell_type": "code",
   "execution_count": 43,
   "metadata": {},
   "outputs": [
    {
     "name": "stdout",
     "output_type": "stream",
     "text": [
      "Step 0, loss: 0.3750, recon: 0.3750, kld: 0.5017\n",
      "Step 100, loss: 0.0318, recon: 0.0318, kld: 2.5931\n",
      "Step 200, loss: 0.0261, recon: 0.0261, kld: 3.1231\n",
      "Step 300, loss: 0.0184, recon: 0.0184, kld: 2.7536\n",
      "Step 400, loss: 0.0178, recon: 0.0178, kld: 2.6099\n",
      "Step 500, loss: 0.0149, recon: 0.0149, kld: 2.5369\n",
      "Step 600, loss: 0.0139, recon: 0.0139, kld: 2.3610\n",
      "Step 700, loss: 0.0124, recon: 0.0124, kld: 2.6909\n",
      "Step 800, loss: 0.0154, recon: 0.0154, kld: 2.6028\n",
      "Step 900, loss: 0.0175, recon: 0.0175, kld: 2.6500\n",
      "Step 1000, loss: 0.0174, recon: 0.0174, kld: 2.6061\n",
      "Step 1100, loss: 0.0134, recon: 0.0134, kld: 2.5057\n",
      "Step 1200, loss: 0.0116, recon: 0.0116, kld: 2.3426\n",
      "Step 1300, loss: 0.0125, recon: 0.0125, kld: 2.3650\n",
      "Step 1400, loss: 0.0221, recon: 0.0221, kld: 2.6675\n",
      "Step 1500, loss: 0.0163, recon: 0.0163, kld: 2.6415\n",
      "Step 1600, loss: 0.0136, recon: 0.0136, kld: 2.3838\n",
      "Step 1700, loss: 0.0120, recon: 0.0120, kld: 2.4446\n",
      "Step 1800, loss: 0.0141, recon: 0.0141, kld: 2.3929\n",
      "Step 1900, loss: 0.0141, recon: 0.0141, kld: 2.5534\n"
     ]
    },
    {
     "data": {
      "application/vnd.jupyter.widget-view+json": {
       "model_id": "84437a1a65f44a13a5c4d1e550efd5f7",
       "version_major": 2,
       "version_minor": 0
      },
      "text/plain": [
       "Evaluating:   0%|          | 0/16 [00:00<?, ?it/s]"
      ]
     },
     "metadata": {},
     "output_type": "display_data"
    },
    {
     "name": "stderr",
     "output_type": "stream",
     "text": [
      "2024-07-19 17:56:51.263 | INFO     | cupbearer.detectors.anomaly_detector:get_eval_results:344 - AUC_ROC (all): 0.3549\n",
      "2024-07-19 17:56:51.264 | INFO     | cupbearer.detectors.anomaly_detector:get_eval_results:345 - AP (all): 0.3924\n"
     ]
    },
    {
     "data": {
      "text/plain": [
       "(defaultdict(dict, {'all': {'AUC_ROC': 0.354932, 'AP': 0.39242519408153737}}),\n",
       " {'all': <Figure size 640x480 with 1 Axes>})"
      ]
     },
     "execution_count": 43,
     "metadata": {},
     "output_type": "execute_result"
    },
    {
     "data": {
      "image/png": "[encoded data removed]",
      "text/plain": [
       "<Figure size 640x480 with 1 Axes>"
      ]
     },
     "metadata": {},
     "output_type": "display_data"
    }
   ],
   "source": [
    "activation_names = [\"hf_model.pre_classifier.input\"]\n",
    "detector = VAEDetector(\n",
    "    activation_names=activation_names,\n",
    "    cache=adv_cache,\n",
    "    mean=adv_mean,\n",
    "    std=adv_std,\n",
    "    latent_dim=32,\n",
    "    kld_weight=0.0,\n",
    ")\n",
    "detector.train(task, num_steps=2000)\n",
    "detector.eval(task, pbar=True, batch_size=64)"
   ]
  }
 ],
 "metadata": {
  "kernelspec": {
   "display_name": "abstractions",
   "language": "python",
   "name": "python3"
  },
  "language_info": {
   "codemirror_mode": {
    "name": "ipython",
    "version": 3
   },
   "file_extension": ".py",
   "mimetype": "text/x-python",
   "name": "python",
   "nbconvert_exporter": "python",
   "pygments_lexer": "ipython3",
   "version": "3.10.9"
  }
 },
 "nbformat": 4,
 "nbformat_minor": 2
}
